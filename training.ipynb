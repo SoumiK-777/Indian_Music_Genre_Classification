{
 "cells": [
  {
   "cell_type": "code",
   "execution_count": 2,
   "metadata": {},
   "outputs": [
    {
     "name": "stderr",
     "output_type": "stream",
     "text": [
      "2023-06-25 20:39:14.897623: I tensorflow/core/platform/cpu_feature_guard.cc:182] This TensorFlow binary is optimized to use available CPU instructions in performance-critical operations.\n",
      "To enable the following instructions: AVX2 FMA, in other operations, rebuild TensorFlow with the appropriate compiler flags.\n",
      "2023-06-25 20:39:15.801843: W tensorflow/compiler/tf2tensorrt/utils/py_utils.cc:38] TF-TRT Warning: Could not find TensorRT\n"
     ]
    }
   ],
   "source": [
    "import tensorflow as tf\n",
    "from tensorflow.python import keras\n",
    "from sklearn.model_selection import train_test_split"
   ]
  },
  {
   "cell_type": "code",
   "execution_count": 3,
   "metadata": {},
   "outputs": [],
   "source": [
    "import json\n",
    "import numpy as np\n",
    "\n",
    "def load_data(dataset_path):\n",
    "    with open(dataset_path,'r') as fp:\n",
    "        data=json.load(fp)\n",
    "\n",
    "    inputs=np.array(data['mfcc'])\n",
    "    targets=np.array(data['labels'])\n",
    "\n",
    "    return inputs,targets"
   ]
  },
  {
   "cell_type": "code",
   "execution_count": 4,
   "metadata": {},
   "outputs": [],
   "source": [
    "inputs,targets=load_data('data_project.json')"
   ]
  },
  {
   "cell_type": "code",
   "execution_count": 5,
   "metadata": {},
   "outputs": [
    {
     "data": {
      "text/plain": [
       "array([0, 0, 0, ..., 5, 5, 5])"
      ]
     },
     "execution_count": 5,
     "metadata": {},
     "output_type": "execute_result"
    }
   ],
   "source": [
    "targets"
   ]
  },
  {
   "cell_type": "code",
   "execution_count": 6,
   "metadata": {},
   "outputs": [],
   "source": [
    "input_train,input_test,target_train,target_test=train_test_split(inputs,targets,test_size=0.3)"
   ]
  },
  {
   "cell_type": "code",
   "execution_count": 7,
   "metadata": {},
   "outputs": [
    {
     "data": {
      "text/plain": [
       "(5038, 259, 13)"
      ]
     },
     "execution_count": 7,
     "metadata": {},
     "output_type": "execute_result"
    }
   ],
   "source": [
    "inputs.shape"
   ]
  },
  {
   "cell_type": "code",
   "execution_count": 8,
   "metadata": {},
   "outputs": [
    {
     "name": "stderr",
     "output_type": "stream",
     "text": [
      "2023-06-25 20:39:25.908802: I tensorflow/compiler/xla/stream_executor/cuda/cuda_gpu_executor.cc:996] successful NUMA node read from SysFS had negative value (-1), but there must be at least one NUMA node, so returning NUMA node zero. See more at https://github.com/torvalds/linux/blob/v6.0/Documentation/ABI/testing/sysfs-bus-pci#L344-L355\n",
      "2023-06-25 20:39:26.014985: I tensorflow/compiler/xla/stream_executor/cuda/cuda_gpu_executor.cc:996] successful NUMA node read from SysFS had negative value (-1), but there must be at least one NUMA node, so returning NUMA node zero. See more at https://github.com/torvalds/linux/blob/v6.0/Documentation/ABI/testing/sysfs-bus-pci#L344-L355\n",
      "2023-06-25 20:39:26.015182: I tensorflow/compiler/xla/stream_executor/cuda/cuda_gpu_executor.cc:996] successful NUMA node read from SysFS had negative value (-1), but there must be at least one NUMA node, so returning NUMA node zero. See more at https://github.com/torvalds/linux/blob/v6.0/Documentation/ABI/testing/sysfs-bus-pci#L344-L355\n",
      "2023-06-25 20:39:26.016362: I tensorflow/compiler/xla/stream_executor/cuda/cuda_gpu_executor.cc:996] successful NUMA node read from SysFS had negative value (-1), but there must be at least one NUMA node, so returning NUMA node zero. See more at https://github.com/torvalds/linux/blob/v6.0/Documentation/ABI/testing/sysfs-bus-pci#L344-L355\n",
      "2023-06-25 20:39:26.016515: I tensorflow/compiler/xla/stream_executor/cuda/cuda_gpu_executor.cc:996] successful NUMA node read from SysFS had negative value (-1), but there must be at least one NUMA node, so returning NUMA node zero. See more at https://github.com/torvalds/linux/blob/v6.0/Documentation/ABI/testing/sysfs-bus-pci#L344-L355\n",
      "2023-06-25 20:39:26.016638: I tensorflow/compiler/xla/stream_executor/cuda/cuda_gpu_executor.cc:996] successful NUMA node read from SysFS had negative value (-1), but there must be at least one NUMA node, so returning NUMA node zero. See more at https://github.com/torvalds/linux/blob/v6.0/Documentation/ABI/testing/sysfs-bus-pci#L344-L355\n",
      "2023-06-25 20:39:26.863629: I tensorflow/compiler/xla/stream_executor/cuda/cuda_gpu_executor.cc:996] successful NUMA node read from SysFS had negative value (-1), but there must be at least one NUMA node, so returning NUMA node zero. See more at https://github.com/torvalds/linux/blob/v6.0/Documentation/ABI/testing/sysfs-bus-pci#L344-L355\n",
      "2023-06-25 20:39:26.863816: I tensorflow/compiler/xla/stream_executor/cuda/cuda_gpu_executor.cc:996] successful NUMA node read from SysFS had negative value (-1), but there must be at least one NUMA node, so returning NUMA node zero. See more at https://github.com/torvalds/linux/blob/v6.0/Documentation/ABI/testing/sysfs-bus-pci#L344-L355\n",
      "2023-06-25 20:39:26.863948: I tensorflow/compiler/xla/stream_executor/cuda/cuda_gpu_executor.cc:996] successful NUMA node read from SysFS had negative value (-1), but there must be at least one NUMA node, so returning NUMA node zero. See more at https://github.com/torvalds/linux/blob/v6.0/Documentation/ABI/testing/sysfs-bus-pci#L344-L355\n",
      "2023-06-25 20:39:26.864647: I tensorflow/core/common_runtime/gpu/gpu_device.cc:1635] Created device /job:localhost/replica:0/task:0/device:GPU:0 with 2586 MB memory:  -> device: 0, name: NVIDIA GeForce GTX 1650, pci bus id: 0000:01:00.0, compute capability: 7.5\n"
     ]
    }
   ],
   "source": [
    "model=tf.keras.Sequential([\n",
    "    tf.keras.layers.Flatten(input_shape=(inputs.shape[1],inputs.shape[2])),\n",
    "    tf.keras.layers.Dense(512,activation='relu'),\n",
    "    tf.keras.layers.Dense(256,activation='relu'),\n",
    "    tf.keras.layers.Dense(64,activation='relu'),\n",
    "    tf.keras.layers.Dense(6,activation='softmax')\n",
    "])"
   ]
  },
  {
   "cell_type": "code",
   "execution_count": 9,
   "metadata": {},
   "outputs": [],
   "source": [
    "model.compile(optimizer=tf.keras.optimizers.Adam(),loss='sparse_categorical_crossentropy',metrics=['accuracy'])"
   ]
  },
  {
   "cell_type": "code",
   "execution_count": 10,
   "metadata": {},
   "outputs": [
    {
     "name": "stdout",
     "output_type": "stream",
     "text": [
      "Model: \"sequential\"\n",
      "_________________________________________________________________\n",
      " Layer (type)                Output Shape              Param #   \n",
      "=================================================================\n",
      " flatten (Flatten)           (None, 3367)              0         \n",
      "                                                                 \n",
      " dense (Dense)               (None, 512)               1724416   \n",
      "                                                                 \n",
      " dense_1 (Dense)             (None, 256)               131328    \n",
      "                                                                 \n",
      " dense_2 (Dense)             (None, 64)                16448     \n",
      "                                                                 \n",
      " dense_3 (Dense)             (None, 6)                 390       \n",
      "                                                                 \n",
      "=================================================================\n",
      "Total params: 1,872,582\n",
      "Trainable params: 1,872,582\n",
      "Non-trainable params: 0\n",
      "_________________________________________________________________\n"
     ]
    }
   ],
   "source": [
    "model.summary()"
   ]
  },
  {
   "cell_type": "code",
   "execution_count": 13,
   "metadata": {},
   "outputs": [
    {
     "name": "stdout",
     "output_type": "stream",
     "text": [
      "Epoch 1/100\n",
      " 11/111 [=>............................] - ETA: 0s - loss: 0.1030 - accuracy: 0.9659"
     ]
    },
    {
     "name": "stderr",
     "output_type": "stream",
     "text": [
      "2023-06-25 20:39:53.964543: W tensorflow/tsl/framework/cpu_allocator_impl.cc:83] Allocation of 47488168 exceeds 10% of free system memory.\n",
      "2023-06-25 20:39:54.043330: W tensorflow/tsl/framework/cpu_allocator_impl.cc:83] Allocation of 47488168 exceeds 10% of free system memory.\n"
     ]
    },
    {
     "name": "stdout",
     "output_type": "stream",
     "text": [
      "111/111 [==============================] - 0s 4ms/step - loss: 0.1537 - accuracy: 0.9504 - val_loss: 2.8121 - val_accuracy: 0.5820\n",
      "Epoch 2/100\n",
      "111/111 [==============================] - 0s 3ms/step - loss: 0.2020 - accuracy: 0.9359 - val_loss: 2.9705 - val_accuracy: 0.5767\n",
      "Epoch 3/100\n",
      "111/111 [==============================] - 0s 3ms/step - loss: 0.1602 - accuracy: 0.9467 - val_loss: 3.0280 - val_accuracy: 0.5734\n",
      "Epoch 4/100\n",
      "111/111 [==============================] - 0s 3ms/step - loss: 0.1386 - accuracy: 0.9543 - val_loss: 3.1474 - val_accuracy: 0.5754\n",
      "Epoch 5/100\n",
      "111/111 [==============================] - 0s 3ms/step - loss: 0.1980 - accuracy: 0.9370 - val_loss: 2.8677 - val_accuracy: 0.5747\n",
      "Epoch 6/100\n",
      "111/111 [==============================] - 0s 4ms/step - loss: 0.1232 - accuracy: 0.9597 - val_loss: 2.9182 - val_accuracy: 0.5794\n",
      "Epoch 7/100\n",
      "111/111 [==============================] - 0s 3ms/step - loss: 0.1624 - accuracy: 0.9501 - val_loss: 3.5836 - val_accuracy: 0.5384\n",
      "Epoch 8/100\n",
      "111/111 [==============================] - 0s 4ms/step - loss: 0.1739 - accuracy: 0.9458 - val_loss: 3.3091 - val_accuracy: 0.5661\n",
      "Epoch 9/100\n",
      "111/111 [==============================] - 0s 3ms/step - loss: 0.1671 - accuracy: 0.9450 - val_loss: 2.9762 - val_accuracy: 0.5470\n",
      "Epoch 10/100\n",
      "111/111 [==============================] - 0s 3ms/step - loss: 0.2016 - accuracy: 0.9339 - val_loss: 3.3970 - val_accuracy: 0.5734\n",
      "Epoch 11/100\n",
      "111/111 [==============================] - 0s 2ms/step - loss: 0.2959 - accuracy: 0.9146 - val_loss: 3.1864 - val_accuracy: 0.5880\n",
      "Epoch 12/100\n",
      "111/111 [==============================] - 0s 3ms/step - loss: 0.1180 - accuracy: 0.9626 - val_loss: 2.8960 - val_accuracy: 0.6124\n",
      "Epoch 13/100\n",
      "111/111 [==============================] - 0s 3ms/step - loss: 0.1261 - accuracy: 0.9569 - val_loss: 3.1414 - val_accuracy: 0.5840\n",
      "Epoch 14/100\n",
      "111/111 [==============================] - 0s 3ms/step - loss: 0.0648 - accuracy: 0.9773 - val_loss: 2.9893 - val_accuracy: 0.5880\n",
      "Epoch 15/100\n",
      "111/111 [==============================] - 0s 3ms/step - loss: 0.1172 - accuracy: 0.9606 - val_loss: 3.6402 - val_accuracy: 0.5701\n",
      "Epoch 16/100\n",
      "111/111 [==============================] - 0s 3ms/step - loss: 0.1557 - accuracy: 0.9541 - val_loss: 3.3730 - val_accuracy: 0.5516\n",
      "Epoch 17/100\n",
      "111/111 [==============================] - 0s 3ms/step - loss: 0.2154 - accuracy: 0.9396 - val_loss: 3.0768 - val_accuracy: 0.5635\n",
      "Epoch 18/100\n",
      "111/111 [==============================] - 0s 2ms/step - loss: 0.3270 - accuracy: 0.9095 - val_loss: 2.4946 - val_accuracy: 0.5833\n",
      "Epoch 19/100\n",
      "111/111 [==============================] - 0s 3ms/step - loss: 0.1570 - accuracy: 0.9467 - val_loss: 2.9831 - val_accuracy: 0.5813\n",
      "Epoch 20/100\n",
      "111/111 [==============================] - 0s 3ms/step - loss: 0.1051 - accuracy: 0.9674 - val_loss: 2.7608 - val_accuracy: 0.5708\n",
      "Epoch 21/100\n",
      "111/111 [==============================] - 0s 3ms/step - loss: 0.0974 - accuracy: 0.9688 - val_loss: 2.9362 - val_accuracy: 0.5847\n",
      "Epoch 22/100\n",
      "111/111 [==============================] - 0s 2ms/step - loss: 0.1111 - accuracy: 0.9682 - val_loss: 3.5044 - val_accuracy: 0.5437\n",
      "Epoch 23/100\n",
      "111/111 [==============================] - 0s 2ms/step - loss: 0.1364 - accuracy: 0.9546 - val_loss: 2.8149 - val_accuracy: 0.5741\n",
      "Epoch 24/100\n",
      "111/111 [==============================] - 0s 2ms/step - loss: 0.0659 - accuracy: 0.9748 - val_loss: 3.2119 - val_accuracy: 0.5840\n",
      "Epoch 25/100\n",
      "111/111 [==============================] - 0s 3ms/step - loss: 0.0549 - accuracy: 0.9801 - val_loss: 2.8187 - val_accuracy: 0.5972\n",
      "Epoch 26/100\n",
      "111/111 [==============================] - 0s 3ms/step - loss: 0.0386 - accuracy: 0.9858 - val_loss: 3.3124 - val_accuracy: 0.5794\n",
      "Epoch 27/100\n",
      "111/111 [==============================] - 0s 3ms/step - loss: 0.1102 - accuracy: 0.9640 - val_loss: 3.2745 - val_accuracy: 0.5946\n",
      "Epoch 28/100\n",
      "111/111 [==============================] - 0s 3ms/step - loss: 0.1063 - accuracy: 0.9623 - val_loss: 3.3344 - val_accuracy: 0.5721\n",
      "Epoch 29/100\n",
      "111/111 [==============================] - 0s 2ms/step - loss: 0.1664 - accuracy: 0.9495 - val_loss: 3.2777 - val_accuracy: 0.5979\n",
      "Epoch 30/100\n",
      "111/111 [==============================] - 0s 3ms/step - loss: 0.2754 - accuracy: 0.9248 - val_loss: 2.5953 - val_accuracy: 0.5794\n",
      "Epoch 31/100\n",
      "111/111 [==============================] - 0s 3ms/step - loss: 0.2036 - accuracy: 0.9339 - val_loss: 2.7511 - val_accuracy: 0.5992\n",
      "Epoch 32/100\n",
      "111/111 [==============================] - 0s 2ms/step - loss: 0.2215 - accuracy: 0.9368 - val_loss: 2.8020 - val_accuracy: 0.5959\n",
      "Epoch 33/100\n",
      "111/111 [==============================] - 0s 2ms/step - loss: 0.1000 - accuracy: 0.9697 - val_loss: 2.9414 - val_accuracy: 0.5701\n",
      "Epoch 34/100\n",
      "111/111 [==============================] - 0s 2ms/step - loss: 0.1069 - accuracy: 0.9617 - val_loss: 2.7746 - val_accuracy: 0.5999\n",
      "Epoch 35/100\n",
      "111/111 [==============================] - 0s 3ms/step - loss: 0.1467 - accuracy: 0.9566 - val_loss: 2.4506 - val_accuracy: 0.5880\n",
      "Epoch 36/100\n",
      "111/111 [==============================] - 0s 3ms/step - loss: 0.0388 - accuracy: 0.9850 - val_loss: 3.0007 - val_accuracy: 0.5880\n",
      "Epoch 37/100\n",
      "111/111 [==============================] - 0s 2ms/step - loss: 0.0396 - accuracy: 0.9841 - val_loss: 3.0155 - val_accuracy: 0.5886\n",
      "Epoch 38/100\n",
      "111/111 [==============================] - 0s 2ms/step - loss: 0.1575 - accuracy: 0.9518 - val_loss: 3.0727 - val_accuracy: 0.5840\n",
      "Epoch 39/100\n",
      "111/111 [==============================] - 0s 3ms/step - loss: 0.0813 - accuracy: 0.9725 - val_loss: 3.1349 - val_accuracy: 0.5853\n",
      "Epoch 40/100\n",
      "111/111 [==============================] - 0s 3ms/step - loss: 0.2066 - accuracy: 0.9359 - val_loss: 2.5616 - val_accuracy: 0.5939\n",
      "Epoch 41/100\n",
      "111/111 [==============================] - 0s 2ms/step - loss: 0.1220 - accuracy: 0.9626 - val_loss: 3.2420 - val_accuracy: 0.5774\n",
      "Epoch 42/100\n",
      "111/111 [==============================] - 0s 3ms/step - loss: 0.0798 - accuracy: 0.9728 - val_loss: 3.3604 - val_accuracy: 0.5589\n",
      "Epoch 43/100\n",
      "111/111 [==============================] - 0s 3ms/step - loss: 0.1127 - accuracy: 0.9628 - val_loss: 3.3656 - val_accuracy: 0.5787\n",
      "Epoch 44/100\n",
      "111/111 [==============================] - 0s 3ms/step - loss: 0.0901 - accuracy: 0.9719 - val_loss: 2.9073 - val_accuracy: 0.6025\n",
      "Epoch 45/100\n",
      "111/111 [==============================] - 0s 3ms/step - loss: 0.0354 - accuracy: 0.9855 - val_loss: 3.0394 - val_accuracy: 0.5913\n",
      "Epoch 46/100\n",
      "111/111 [==============================] - 0s 3ms/step - loss: 0.0274 - accuracy: 0.9884 - val_loss: 3.1726 - val_accuracy: 0.5866\n",
      "Epoch 47/100\n",
      "111/111 [==============================] - 0s 3ms/step - loss: 0.0287 - accuracy: 0.9887 - val_loss: 3.3436 - val_accuracy: 0.5893\n",
      "Epoch 48/100\n",
      "111/111 [==============================] - 0s 4ms/step - loss: 0.0222 - accuracy: 0.9904 - val_loss: 3.3987 - val_accuracy: 0.6032\n",
      "Epoch 49/100\n",
      "111/111 [==============================] - 0s 3ms/step - loss: 0.0646 - accuracy: 0.9776 - val_loss: 3.3428 - val_accuracy: 0.5893\n",
      "Epoch 50/100\n",
      "111/111 [==============================] - 0s 4ms/step - loss: 0.2475 - accuracy: 0.9268 - val_loss: 2.3722 - val_accuracy: 0.5813\n",
      "Epoch 51/100\n",
      "111/111 [==============================] - 0s 3ms/step - loss: 0.1922 - accuracy: 0.9302 - val_loss: 2.8509 - val_accuracy: 0.5827\n",
      "Epoch 52/100\n",
      "111/111 [==============================] - 0s 3ms/step - loss: 0.0766 - accuracy: 0.9680 - val_loss: 2.7660 - val_accuracy: 0.5919\n",
      "Epoch 53/100\n",
      "111/111 [==============================] - 0s 3ms/step - loss: 0.0511 - accuracy: 0.9782 - val_loss: 3.2424 - val_accuracy: 0.5893\n",
      "Epoch 54/100\n",
      "111/111 [==============================] - 0s 4ms/step - loss: 0.1117 - accuracy: 0.9651 - val_loss: 3.0057 - val_accuracy: 0.5873\n",
      "Epoch 55/100\n",
      "111/111 [==============================] - 0s 4ms/step - loss: 0.0997 - accuracy: 0.9651 - val_loss: 3.0680 - val_accuracy: 0.5635\n",
      "Epoch 56/100\n",
      "111/111 [==============================] - 0s 3ms/step - loss: 0.1902 - accuracy: 0.9444 - val_loss: 2.6417 - val_accuracy: 0.5899\n",
      "Epoch 57/100\n",
      "111/111 [==============================] - 0s 3ms/step - loss: 0.0489 - accuracy: 0.9816 - val_loss: 3.0220 - val_accuracy: 0.5972\n",
      "Epoch 58/100\n",
      "111/111 [==============================] - 0s 3ms/step - loss: 0.0764 - accuracy: 0.9739 - val_loss: 3.1195 - val_accuracy: 0.5886\n",
      "Epoch 59/100\n",
      "111/111 [==============================] - 0s 3ms/step - loss: 0.0555 - accuracy: 0.9793 - val_loss: 3.0398 - val_accuracy: 0.5820\n",
      "Epoch 60/100\n",
      "111/111 [==============================] - 0s 3ms/step - loss: 0.0417 - accuracy: 0.9833 - val_loss: 3.0657 - val_accuracy: 0.5899\n",
      "Epoch 61/100\n",
      "111/111 [==============================] - 0s 3ms/step - loss: 0.0222 - accuracy: 0.9881 - val_loss: 3.2655 - val_accuracy: 0.5946\n",
      "Epoch 62/100\n",
      "111/111 [==============================] - 0s 3ms/step - loss: 0.0203 - accuracy: 0.9901 - val_loss: 3.2250 - val_accuracy: 0.6151\n",
      "Epoch 63/100\n",
      "111/111 [==============================] - 0s 2ms/step - loss: 0.0329 - accuracy: 0.9858 - val_loss: 3.6516 - val_accuracy: 0.5721\n",
      "Epoch 64/100\n",
      "111/111 [==============================] - 0s 2ms/step - loss: 0.1751 - accuracy: 0.9438 - val_loss: 2.6081 - val_accuracy: 0.5933\n",
      "Epoch 65/100\n",
      "111/111 [==============================] - 0s 3ms/step - loss: 0.1842 - accuracy: 0.9407 - val_loss: 2.3648 - val_accuracy: 0.5827\n",
      "Epoch 66/100\n",
      "111/111 [==============================] - 0s 2ms/step - loss: 0.2069 - accuracy: 0.9390 - val_loss: 2.5969 - val_accuracy: 0.5615\n",
      "Epoch 67/100\n",
      "111/111 [==============================] - 0s 3ms/step - loss: 0.0840 - accuracy: 0.9708 - val_loss: 2.9043 - val_accuracy: 0.6052\n",
      "Epoch 68/100\n",
      "111/111 [==============================] - 0s 3ms/step - loss: 0.0270 - accuracy: 0.9887 - val_loss: 3.0798 - val_accuracy: 0.6058\n",
      "Epoch 69/100\n",
      "111/111 [==============================] - 0s 2ms/step - loss: 0.0232 - accuracy: 0.9884 - val_loss: 3.4492 - val_accuracy: 0.6005\n",
      "Epoch 70/100\n",
      "111/111 [==============================] - 0s 2ms/step - loss: 0.0443 - accuracy: 0.9824 - val_loss: 3.2432 - val_accuracy: 0.5847\n",
      "Epoch 71/100\n",
      "111/111 [==============================] - 0s 3ms/step - loss: 0.0581 - accuracy: 0.9773 - val_loss: 3.1809 - val_accuracy: 0.5873\n",
      "Epoch 72/100\n",
      "111/111 [==============================] - 0s 3ms/step - loss: 0.1702 - accuracy: 0.9495 - val_loss: 2.2528 - val_accuracy: 0.6071\n",
      "Epoch 73/100\n",
      "111/111 [==============================] - 0s 2ms/step - loss: 0.0829 - accuracy: 0.9745 - val_loss: 2.7655 - val_accuracy: 0.6098\n",
      "Epoch 74/100\n",
      "111/111 [==============================] - 0s 2ms/step - loss: 0.0490 - accuracy: 0.9813 - val_loss: 2.8732 - val_accuracy: 0.5966\n",
      "Epoch 75/100\n",
      "111/111 [==============================] - 0s 3ms/step - loss: 0.0269 - accuracy: 0.9881 - val_loss: 2.9599 - val_accuracy: 0.6025\n",
      "Epoch 76/100\n",
      "111/111 [==============================] - 0s 4ms/step - loss: 0.0169 - accuracy: 0.9895 - val_loss: 3.2302 - val_accuracy: 0.5959\n",
      "Epoch 77/100\n",
      "111/111 [==============================] - 0s 4ms/step - loss: 0.0414 - accuracy: 0.9847 - val_loss: 3.5045 - val_accuracy: 0.5820\n",
      "Epoch 78/100\n",
      "111/111 [==============================] - 0s 3ms/step - loss: 0.1949 - accuracy: 0.9461 - val_loss: 2.5542 - val_accuracy: 0.5516\n",
      "Epoch 79/100\n",
      "111/111 [==============================] - 0s 3ms/step - loss: 0.1396 - accuracy: 0.9558 - val_loss: 2.9018 - val_accuracy: 0.6052\n",
      "Epoch 80/100\n",
      "111/111 [==============================] - 0s 4ms/step - loss: 0.0557 - accuracy: 0.9776 - val_loss: 3.2161 - val_accuracy: 0.5939\n",
      "Epoch 81/100\n",
      "111/111 [==============================] - 0s 3ms/step - loss: 0.0333 - accuracy: 0.9850 - val_loss: 2.9439 - val_accuracy: 0.5966\n",
      "Epoch 82/100\n",
      "111/111 [==============================] - 0s 3ms/step - loss: 0.0412 - accuracy: 0.9833 - val_loss: 3.4111 - val_accuracy: 0.5761\n",
      "Epoch 83/100\n",
      "111/111 [==============================] - 0s 3ms/step - loss: 0.0534 - accuracy: 0.9804 - val_loss: 3.2286 - val_accuracy: 0.5939\n",
      "Epoch 84/100\n",
      "111/111 [==============================] - 0s 4ms/step - loss: 0.0774 - accuracy: 0.9725 - val_loss: 3.2943 - val_accuracy: 0.6058\n",
      "Epoch 85/100\n",
      "111/111 [==============================] - 0s 3ms/step - loss: 0.1099 - accuracy: 0.9617 - val_loss: 2.9629 - val_accuracy: 0.6032\n",
      "Epoch 86/100\n",
      "111/111 [==============================] - 0s 3ms/step - loss: 0.0858 - accuracy: 0.9691 - val_loss: 3.0448 - val_accuracy: 0.5807\n",
      "Epoch 87/100\n",
      "111/111 [==============================] - 0s 3ms/step - loss: 0.0350 - accuracy: 0.9844 - val_loss: 3.4772 - val_accuracy: 0.6012\n",
      "Epoch 88/100\n",
      "111/111 [==============================] - 0s 3ms/step - loss: 0.0176 - accuracy: 0.9904 - val_loss: 3.4575 - val_accuracy: 0.6078\n",
      "Epoch 89/100\n",
      "111/111 [==============================] - 0s 3ms/step - loss: 0.0170 - accuracy: 0.9906 - val_loss: 3.4019 - val_accuracy: 0.6045\n",
      "Epoch 90/100\n",
      "111/111 [==============================] - 0s 3ms/step - loss: 0.0143 - accuracy: 0.9906 - val_loss: 3.7063 - val_accuracy: 0.6005\n",
      "Epoch 91/100\n",
      "111/111 [==============================] - 0s 3ms/step - loss: 0.0137 - accuracy: 0.9926 - val_loss: 3.6520 - val_accuracy: 0.5972\n",
      "Epoch 92/100\n",
      "111/111 [==============================] - 0s 2ms/step - loss: 0.0128 - accuracy: 0.9906 - val_loss: 3.6948 - val_accuracy: 0.5933\n",
      "Epoch 93/100\n",
      "111/111 [==============================] - 0s 2ms/step - loss: 0.0126 - accuracy: 0.9909 - val_loss: 3.7691 - val_accuracy: 0.5959\n",
      "Epoch 94/100\n",
      "111/111 [==============================] - 0s 2ms/step - loss: 0.0125 - accuracy: 0.9906 - val_loss: 4.0602 - val_accuracy: 0.5966\n",
      "Epoch 95/100\n",
      "111/111 [==============================] - 0s 4ms/step - loss: 0.0179 - accuracy: 0.9912 - val_loss: 4.3067 - val_accuracy: 0.6058\n",
      "Epoch 96/100\n",
      "111/111 [==============================] - 0s 3ms/step - loss: 0.1871 - accuracy: 0.9404 - val_loss: 2.9500 - val_accuracy: 0.5602\n",
      "Epoch 97/100\n",
      "111/111 [==============================] - 0s 4ms/step - loss: 0.2536 - accuracy: 0.9282 - val_loss: 2.3285 - val_accuracy: 0.5873\n",
      "Epoch 98/100\n",
      "111/111 [==============================] - 0s 3ms/step - loss: 0.1008 - accuracy: 0.9651 - val_loss: 2.7711 - val_accuracy: 0.5999\n",
      "Epoch 99/100\n",
      "111/111 [==============================] - 0s 3ms/step - loss: 0.0588 - accuracy: 0.9765 - val_loss: 2.6445 - val_accuracy: 0.5959\n",
      "Epoch 100/100\n",
      "111/111 [==============================] - 0s 3ms/step - loss: 0.0290 - accuracy: 0.9887 - val_loss: 2.9840 - val_accuracy: 0.5972\n"
     ]
    }
   ],
   "source": [
    "history=model.fit(input_train,target_train,validation_data=(input_test,target_test),epochs=100,batch_size=32)"
   ]
  },
  {
   "cell_type": "code",
   "execution_count": 14,
   "metadata": {},
   "outputs": [
    {
     "data": {
      "text/plain": [
       "Text(0.5, 0, 'Epochs')"
      ]
     },
     "execution_count": 14,
     "metadata": {},
     "output_type": "execute_result"
    },
    {
     "data": {
      "image/png": "[encoded data removed]",
      "text/plain": [
       "<Figure size 640x480 with 1 Axes>"
      ]
     },
     "metadata": {},
     "output_type": "display_data"
    }
   ],
   "source": [
    "import pandas as pd\n",
    "import matplotlib.pyplot as plt\n",
    "\n",
    "history_plot=pd.DataFrame(history.history)\n",
    "\n",
    "\n",
    "history_plot.plot()\n",
    "plt.title(\"Loss and Accuracy curve\")\n",
    "plt.xlabel(\"Epochs\")"
   ]
  },
  {
   "cell_type": "code",
   "execution_count": 15,
   "metadata": {},
   "outputs": [
    {
     "data": {
      "text/html": [
       "<div>\n",
       "<style scoped>\n",
       "    .dataframe tbody tr th:only-of-type {\n",
       "        vertical-align: middle;\n",
       "    }\n",
       "\n",
       "    .dataframe tbody tr th {\n",
       "        vertical-align: top;\n",
       "    }\n",
       "\n",
       "    .dataframe thead th {\n",
       "        text-align: right;\n",
       "    }\n",
       "</style>\n",
       "<table border=\"1\" class=\"dataframe\">\n",
       "  <thead>\n",
       "    <tr style=\"text-align: right;\">\n",
       "      <th></th>\n",
       "      <th>loss</th>\n",
       "      <th>accuracy</th>\n",
       "      <th>val_loss</th>\n",
       "      <th>val_accuracy</th>\n",
       "    </tr>\n",
       "  </thead>\n",
       "  <tbody>\n",
       "    <tr>\n",
       "      <th>0</th>\n",
       "      <td>0.153681</td>\n",
       "      <td>0.950369</td>\n",
       "      <td>2.812124</td>\n",
       "      <td>0.582011</td>\n",
       "    </tr>\n",
       "    <tr>\n",
       "      <th>1</th>\n",
       "      <td>0.201965</td>\n",
       "      <td>0.935905</td>\n",
       "      <td>2.970543</td>\n",
       "      <td>0.576720</td>\n",
       "    </tr>\n",
       "    <tr>\n",
       "      <th>2</th>\n",
       "      <td>0.160170</td>\n",
       "      <td>0.946682</td>\n",
       "      <td>3.027953</td>\n",
       "      <td>0.573413</td>\n",
       "    </tr>\n",
       "    <tr>\n",
       "      <th>3</th>\n",
       "      <td>0.138607</td>\n",
       "      <td>0.954339</td>\n",
       "      <td>3.147429</td>\n",
       "      <td>0.575397</td>\n",
       "    </tr>\n",
       "    <tr>\n",
       "      <th>4</th>\n",
       "      <td>0.197985</td>\n",
       "      <td>0.937039</td>\n",
       "      <td>2.867670</td>\n",
       "      <td>0.574735</td>\n",
       "    </tr>\n",
       "    <tr>\n",
       "      <th>...</th>\n",
       "      <td>...</td>\n",
       "      <td>...</td>\n",
       "      <td>...</td>\n",
       "      <td>...</td>\n",
       "    </tr>\n",
       "    <tr>\n",
       "      <th>95</th>\n",
       "      <td>0.187089</td>\n",
       "      <td>0.940442</td>\n",
       "      <td>2.949980</td>\n",
       "      <td>0.560185</td>\n",
       "    </tr>\n",
       "    <tr>\n",
       "      <th>96</th>\n",
       "      <td>0.253589</td>\n",
       "      <td>0.928247</td>\n",
       "      <td>2.328537</td>\n",
       "      <td>0.587302</td>\n",
       "    </tr>\n",
       "    <tr>\n",
       "      <th>97</th>\n",
       "      <td>0.100787</td>\n",
       "      <td>0.965116</td>\n",
       "      <td>2.771129</td>\n",
       "      <td>0.599868</td>\n",
       "    </tr>\n",
       "    <tr>\n",
       "      <th>98</th>\n",
       "      <td>0.058831</td>\n",
       "      <td>0.976461</td>\n",
       "      <td>2.644546</td>\n",
       "      <td>0.595899</td>\n",
       "    </tr>\n",
       "    <tr>\n",
       "      <th>99</th>\n",
       "      <td>0.029005</td>\n",
       "      <td>0.988656</td>\n",
       "      <td>2.984032</td>\n",
       "      <td>0.597222</td>\n",
       "    </tr>\n",
       "  </tbody>\n",
       "</table>\n",
       "<p>100 rows × 4 columns</p>\n",
       "</div>"
      ],
      "text/plain": [
       "        loss  accuracy  val_loss  val_accuracy\n",
       "0   0.153681  0.950369  2.812124      0.582011\n",
       "1   0.201965  0.935905  2.970543      0.576720\n",
       "2   0.160170  0.946682  3.027953      0.573413\n",
       "3   0.138607  0.954339  3.147429      0.575397\n",
       "4   0.197985  0.937039  2.867670      0.574735\n",
       "..       ...       ...       ...           ...\n",
       "95  0.187089  0.940442  2.949980      0.560185\n",
       "96  0.253589  0.928247  2.328537      0.587302\n",
       "97  0.100787  0.965116  2.771129      0.599868\n",
       "98  0.058831  0.976461  2.644546      0.595899\n",
       "99  0.029005  0.988656  2.984032      0.597222\n",
       "\n",
       "[100 rows x 4 columns]"
      ]
     },
     "execution_count": 15,
     "metadata": {},
     "output_type": "execute_result"
    }
   ],
   "source": [
    "history_plot"
   ]
  }
 ],
 "metadata": {
  "kernelspec": {
   "display_name": "Python 3 (ipykernel)",
   "language": "python",
   "name": "python3"
  },
  "language_info": {
   "codemirror_mode": {
    "name": "ipython",
    "version": 3
   },
   "file_extension": ".py",
   "mimetype": "text/x-python",
   "name": "python",
   "nbconvert_exporter": "python",
   "pygments_lexer": "ipython3",
   "version": "3.9.16"
  }
 },
 "nbformat": 4,
 "nbformat_minor": 2
}
